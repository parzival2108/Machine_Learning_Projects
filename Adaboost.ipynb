{
 "cells": [
  {
   "cell_type": "code",
   "execution_count": null,
   "metadata": {},
   "outputs": [],
   "source": [
    "def Adaboost_train(train_data, train_label, T):\n",
    "    # train_data: N x d matrix\n",
    "    # train_label: N x 1 vector\n",
    "    # T: the number of weak classifiers in the ensemble\n",
    "    \n",
    "    ensemble_models = []\n",
    "    N = train_label.shape[0] # number of training samples\n",
    "    \n",
    "    D1 = np.ones(train_label.shape)/N # initialise the weights distribution \n",
    "    \n",
    "    Dt, alpha_t, model_param_t = weak_classifier_train(D1, train_data, train_label)\n",
    "    ensemble_model.append((alpha_t, model_param_t))\n",
    "    \n",
    "    for i in range(1, T):\n",
    "        Dt, alpha_t, model_param_t = weak_classifier_train(Dt, train_data, train_label)\n",
    "        ensemble_model.append((alpha_t, model_param_t))\n",
    "\n",
    "    return ensemble_models"
   ]
  },
  {
   "cell_type": "markdown",
   "metadata": {},
   "source": [
    "`weak_classifer_train` takes in the weight distribution `Dt`, training data and training label.\n",
    "It will:\n",
    "1. Find the weak classifier that minimises the classification error (i.e. best parameters) which will be saved as `model_param_t`\n",
    "2. Evaluate error $\\epsilon_t$ and model weight `alpha_t` \n",
    "3. Construct the new weight distribution for the next round $D_{t+1}$ but will be saved as `Dt`  \n",
    "4. Returns `model_param_t`, `alpha_t` and `Dt`\n",
    "\n",
    "Note that `ensemble_models` is a list of tuples, where each tuple consists of a model's info (`alpha_t`, `model_param_t`)"
   ]
  },
  {
   "cell_type": "code",
   "execution_count": 3,
   "metadata": {},
   "outputs": [],
   "source": [
    "def Adaboost_test(test_data, ensemble_models): \n",
    "    # test_data: 1 x d\n",
    "    decision_ensemble = 0\n",
    "    for k in range(len(ensemble_models)):\n",
    "        \n",
    "        alpha_t, model_param_t = ensemble_models[k] # the model weights and parameters saved from Adaboost_train\n",
    "        \n",
    "        prediction = weak_classifier_prediction(model_param_t, test_data) # prediction returns 1 or -1 \n",
    "        decision_ensemble += alpha_t*prediction # weighted ensemble\n",
    "    \n",
    "    if decision_ensemble > 0:\n",
    "        prediction = 1\n",
    "    else:\n",
    "        prediction = -1\n",
    "    return prediction"
   ]
  },
  {
   "cell_type": "markdown",
   "metadata": {},
   "source": [
    "`weak_classifier_test` takes in the model parameters and test data. It will use the model parameters of the weak classifier on the test data to predict. It returns 1 or -1 prediction from the weak classifier."
   ]
  },
  {
   "cell_type": "code",
   "execution_count": null,
   "metadata": {},
   "outputs": [],
   "source": []
  }
 ],
 "metadata": {
  "kernelspec": {
   "display_name": "Python 3",
   "language": "python",
   "name": "python3"
  },
  "language_info": {
   "codemirror_mode": {
    "name": "ipython",
    "version": 3
   },
   "file_extension": ".py",
   "mimetype": "text/x-python",
   "name": "python",
   "nbconvert_exporter": "python",
   "pygments_lexer": "ipython3",
   "version": "3.7.4"
  }
 },
 "nbformat": 4,
 "nbformat_minor": 2
}
