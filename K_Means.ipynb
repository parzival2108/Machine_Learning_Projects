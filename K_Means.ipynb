{
 "cells": [
  {
   "cell_type": "code",
   "execution_count": 1,
   "metadata": {},
   "outputs": [],
   "source": [
    "import pandas as pd\n",
    "import numpy as np\n",
    "import matplotlib.pyplot as plt"
   ]
  },
  {
   "cell_type": "code",
   "execution_count": 2,
   "metadata": {},
   "outputs": [
    {
     "data": {
      "text/plain": [
       "array([[0., 0., 0., ..., 0., 0., 0.],\n",
       "       [0., 0., 0., ..., 0., 0., 0.],\n",
       "       [0., 0., 0., ..., 0., 0., 0.],\n",
       "       ...,\n",
       "       [0., 0., 0., ..., 0., 0., 0.],\n",
       "       [0., 0., 0., ..., 0., 0., 0.],\n",
       "       [0., 0., 0., ..., 0., 0., 0.]])"
      ]
     },
     "execution_count": 2,
     "metadata": {},
     "output_type": "execute_result"
    }
   ],
   "source": [
    "data = pd.read_csv('mnist.csv', header = None)\n",
    "label = data.iloc[:,[0]].copy().values\n",
    "X = data.drop(columns = 0).copy().values\n",
    "X"
   ]
  },
  {
   "cell_type": "markdown",
   "metadata": {},
   "source": [
    "# Question 1"
   ]
  },
  {
   "cell_type": "code",
   "execution_count": 4,
   "metadata": {},
   "outputs": [
    {
     "data": {
      "text/plain": [
       "(784,)"
      ]
     },
     "execution_count": 4,
     "metadata": {},
     "output_type": "execute_result"
    }
   ],
   "source": [
    "# mean vector \n",
    "\n",
    "mean_vector = np.mean(X, axis = 0)\n",
    "mean_vector.shape\n",
    "\n",
    "\n",
    "# centering data\n",
    "\n",
    "X_centred = (X - mean_vector).T\n",
    "X_centred.shape\n",
    "\n",
    "cov = (X_centred @ X_centred.T)\n",
    "cov.shape\n",
    "\n",
    "eigvals, eigvecs = np.linalg.eig(cov)\n",
    "\n",
    "# sort eigenvectors and values\n",
    "\n",
    "idx = eigvals.argsort()[::-1]   \n",
    "eigvals = eigvals[idx]\n",
    "eigvecs = eigvecs[:,idx]\n",
    "\n",
    "P = np.real(eigvecs[:,:10])\n",
    "P.shape\n",
    "\n",
    "transformed_X = P.T@X_centred\n",
    "\n",
    "new_cov = transformed_X@transformed_X.T\n",
    "new_cov\n",
    "\n"
   ]
  },
  {
   "cell_type": "markdown",
   "metadata": {},
   "source": [
    "# Question 2\n"
   ]
  },
  {
   "cell_type": "code",
   "execution_count": 25,
   "metadata": {},
   "outputs": [],
   "source": [
    "class Cluster:\n",
    "    def __init__(self, name, centre):\n",
    "        self.name = name\n",
    "        self.centre = centre\n",
    "        self.members = []\n",
    "\n",
    "    def set_centre(self, centre):\n",
    "        self.centre = centre\n",
    "    \n",
    "    def add_member(self, datapoint):\n",
    "        self.members.append(datapoint)\n",
    "        \n",
    "    def calculate_new_centre(self):\n",
    "        members = np.array(self.members)\n",
    "        sum_members = np.sum(members, axis = 0)\n",
    "        new_mean = sum_members/len(members)\n",
    "        self.centre = new_mean\n",
    "        \n",
    "    def reset(self):\n",
    "        self.members = []\n",
    "    \n",
    "    def __repr__(self):\n",
    "        return str(self.centre)"
   ]
  },
  {
   "cell_type": "code",
   "execution_count": 29,
   "metadata": {},
   "outputs": [],
   "source": [
    "# initialise cluster centres\n",
    "\n",
    "np.random.seed(69)\n",
    "k = 10\n",
    "N = len(X)\n",
    "initial_centres = np.random.randint(low = 0, high = N, size = k)\n",
    "\n",
    "clusters = {}\n",
    "for each_k in range(k):\n",
    "    clusters[each_k] = Cluster(each_k, X[initial_centres[each_k]])\n",
    "\n",
    "# initialise r\n",
    "\n",
    "#np.random.seed(69) \n",
    "r = np.zeros((N, k))\n",
    "for i in range(N):\n",
    "    initial_assignment = np.random.randint(low = 0, high = k)\n",
    "    r[i, initial_assignment] = 1"
   ]
  },
  {
   "cell_type": "code",
   "execution_count": 30,
   "metadata": {},
   "outputs": [
    {
     "name": "stdout",
     "output_type": "stream",
     "text": [
      "0 False\n",
      "1 False\n",
      "2 False\n",
      "3 False\n",
      "4 False\n",
      "5 False\n",
      "6 False\n",
      "7 False\n",
      "8 False\n",
      "9 False\n",
      "10 False\n",
      "11 False\n",
      "12 False\n",
      "13 False\n",
      "14 False\n",
      "15 False\n",
      "16 False\n",
      "17 False\n",
      "18 False\n",
      "19 False\n",
      "20 False\n",
      "21 False\n",
      "22 False\n",
      "23 False\n",
      "24 False\n",
      "25 False\n",
      "26 False\n",
      "27 False\n",
      "28 False\n",
      "29 False\n",
      "30 False\n",
      "31 False\n",
      "32 True\n",
      "done\n"
     ]
    }
   ],
   "source": [
    "max_iter = 100\n",
    "loss_ls = []\n",
    "\n",
    "for niter in range(max_iter):\n",
    "    r_new = []\n",
    "    loss = 0\n",
    "    \n",
    "    for i in range(N):\n",
    "        distance_ls = []\n",
    "        \n",
    "        for each_cluster in clusters:\n",
    "             \n",
    "            # calculate distance between X_i and cluster centre k\n",
    "            d_ik = np.linalg.norm(X[i]-clusters[each_cluster].centre)**2\n",
    "            distance_ls.append(d_ik)\n",
    "            \n",
    "        #print(distance_ls)\n",
    "        new_label = distance_ls.index(np.min(distance_ls))\n",
    "        clusters[new_label].add_member(X[i])\n",
    "        \n",
    "        distance_ls = np.array(distance_ls)\n",
    "        new_assignment_for_i = (distance_ls == np.min(distance_ls))\n",
    "        r_new.append(new_assignment_for_i)\n",
    "        \n",
    "        loss_i = distance_ls[new_label]\n",
    "        loss += loss_i\n",
    "    \n",
    "    print(niter, np.allclose(r, r_new))\n",
    "    if np.allclose(r, r_new):\n",
    "        print('done')\n",
    "        break\n",
    "        \n",
    "    r = r_new\n",
    "    loss_ls.append(loss)\n",
    "        \n",
    "    for each_cluster in clusters:\n",
    "        clusters[each_cluster].calculate_new_centre()\n",
    "        clusters[each_cluster].reset()"
   ]
  },
  {
   "cell_type": "markdown",
   "metadata": {},
   "source": [
    "# Question 3"
   ]
  },
  {
   "cell_type": "code",
   "execution_count": 31,
   "metadata": {},
   "outputs": [
    {
     "data": {
      "text/plain": [
       "Text(0.5, 1.0, 'Change of loss value w.r.t to the number of iterations')"
      ]
     },
     "execution_count": 31,
     "metadata": {},
     "output_type": "execute_result"
    },
    {
     "data": {
      "image/png": "[encoded data removed]",
      "text/plain": [
       "<Figure size 1080x576 with 1 Axes>"
      ]
     },
     "metadata": {
      "needs_background": "light"
     },
     "output_type": "display_data"
    }
   ],
   "source": [
    "plt.rcParams[\"figure.figsize\"] = (15,8)\n",
    "plt.plot(loss_ls, color = 'blue', marker = 'x')\n",
    "plt.ylabel('Sum of squares', fontsize = 15)\n",
    "plt.xlabel('Iteration', fontsize = 15)\n",
    "plt.title('Change of loss value w.r.t to the number of iterations', fontsize = 17)"
   ]
  },
  {
   "cell_type": "code",
   "execution_count": null,
   "metadata": {},
   "outputs": [],
   "source": []
  },
  {
   "cell_type": "code",
   "execution_count": null,
   "metadata": {},
   "outputs": [],
   "source": []
  }
 ],
 "metadata": {
  "kernelspec": {
   "display_name": "Python 3",
   "language": "python",
   "name": "python3"
  },
  "language_info": {
   "codemirror_mode": {
    "name": "ipython",
    "version": 3
   },
   "file_extension": ".py",
   "mimetype": "text/x-python",
   "name": "python",
   "nbconvert_exporter": "python",
   "pygments_lexer": "ipython3",
   "version": "3.7.11"
  }
 },
 "nbformat": 4,
 "nbformat_minor": 2
}
