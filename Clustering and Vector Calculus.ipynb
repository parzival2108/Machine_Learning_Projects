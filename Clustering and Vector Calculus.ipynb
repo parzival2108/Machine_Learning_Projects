{
 "cells": [
  {
   "cell_type": "markdown",
   "metadata": {},
   "source": [
    "## COMP3670/6670 Programming Assignment 2 - Clustering and Vector Calculus\n",
    "---\n",
    "\n",
    "**Enter Your Student ID:*u7207311*\n",
    "\n",
    "**Your Name:*Mustafa Mohammadi*\n",
    "    \n",
    "**Deadline:*23:59pm, September 13th, 2020.*\n",
    "\n",
    "**Submit:** Write your answers in this file, and submit a single Jupyter Notebook file (.ipynb) on Wattle. Rename this file with your student number as 'u7207311.ipynb'.\n",
    "\n",
    "**Enter Discussion Partner IDs Below:**\n",
    "You could add more IDs with the same markdown format above.\n",
    "\n",
    "**Programming Section**:\n",
    "- 1.1: 15%\n",
    "- 1.2: 20%\n",
    "- 2.1: 10%\n",
    "- 2.2: 15%\n",
    "- 2.3: 15%\n",
    "- 2.4: 10%\n",
    "- 2.5: 10%\n",
    "- 2.6: 5%"
   ]
  },
  {
   "cell_type": "code",
   "execution_count": 1,
   "metadata": {},
   "outputs": [],
   "source": [
    "import numpy as np\n",
    "import matplotlib.pyplot as plt\n",
    "import math\n",
    "from IPython.core.display import HTML\n",
    "\n",
    "np.random.seed(1)\n"
   ]
  },
  {
   "cell_type": "markdown",
   "metadata": {},
   "source": [
    "## Task1: Vector Calculus \n",
    "-----------\n",
    "This part is about vector calculus. In this section, we will use the rigorous definition of the derivative to calculus it.\n",
    "$$ f'(a) = \\lim_{h \\to 0}\\dfrac{f(a + h) - f(a)}{h}$$\n",
    "Now, expand it to vectors.\n",
    "\n",
    "-----\n",
    "**Task 1.1:** Calculate the gradient of $f(\\textbf{x}) = \\textbf{x}^T\\textbf{a}$ respect to $\\textbf{x}$.     $\\textbf{x}, \\textbf{a} \\in \\mathbb{R}^N$"
   ]
  },
  {
   "cell_type": "code",
   "execution_count": 2,
   "metadata": {},
   "outputs": [],
   "source": [
    "N = 10\n",
    "x = np.random.rand(N)\n",
    "a = np.random.rand(N)"
   ]
  },
  {
   "cell_type": "code",
   "execution_count": 3,
   "metadata": {},
   "outputs": [],
   "source": [
    "def derive_function1(x, a, N):\n",
    "    # The answer is a vector\n",
    "    # Please follow the rigorous defination of derivative to answer this question\n",
    "    # Directly return the conclusion from textbook will not receive any mark.\n",
    "    \n",
    "    h = 1e-4\n",
    "    \n",
    "    gradient_vector = []\n",
    "    i = 0\n",
    "\n",
    "    while i < len(x):\n",
    "        j = 0\n",
    "        prime = []\n",
    "        while j < len(x):\n",
    "            if j == i:\n",
    "                prime.append(x[j]+h)\n",
    "            else:\n",
    "                prime.append(x[j])\n",
    "            j+=1\n",
    "        dot_product_x_a = np.dot(x,a)\n",
    "        prime_x_dot_a = np.dot(prime,a)\n",
    "        derivative = (prime_x_dot_a - dot_product_x_a)/h\n",
    "        gradient_vector.append(derivative)\n",
    "        i +=1\n",
    "    return np.array(gradient_vector)\n"
   ]
  },
  {
   "cell_type": "code",
   "execution_count": 4,
   "metadata": {},
   "outputs": [
    {
     "data": {
      "text/plain": [
       "array([0.41919451, 0.6852195 , 0.20445225, 0.87811744, 0.02738759,\n",
       "       0.67046751, 0.4173048 , 0.55868983, 0.14038694, 0.19810149])"
      ]
     },
     "execution_count": 4,
     "metadata": {},
     "output_type": "execute_result"
    }
   ],
   "source": [
    "derive_function1(x,a,N)"
   ]
  },
  {
   "cell_type": "code",
   "execution_count": null,
   "metadata": {},
   "outputs": [],
   "source": []
  },
  {
   "cell_type": "code",
   "execution_count": null,
   "metadata": {},
   "outputs": [],
   "source": []
  },
  {
   "cell_type": "code",
   "execution_count": null,
   "metadata": {},
   "outputs": [],
   "source": []
  },
  {
   "cell_type": "markdown",
   "metadata": {},
   "source": [
    "-----\n",
    "**Task 1.2:** Calculate the gradient of $f(\\textbf{x}) = \\textbf{x}^TB\\textbf{x}$ respect to $\\textbf{x}$.     $\\textbf{x}\\in \\mathbb{R}^N, B\\in \\mathbb{R}^{N\\times N}$"
   ]
  },
  {
   "cell_type": "code",
   "execution_count": 5,
   "metadata": {},
   "outputs": [],
   "source": [
    "x = np.random.rand(N)\n",
    "B = np.random.rand(N, N)"
   ]
  },
  {
   "cell_type": "code",
   "execution_count": 6,
   "metadata": {},
   "outputs": [],
   "source": [
    "def derive_function2(x, B, N):\n",
    "    h = 1e-4\n",
    "    i = 0\n",
    "    Gradients = []\n",
    "    while i < len(x):\n",
    "\n",
    "        prime_box = []\n",
    "        j = 0\n",
    "        while j < len(x):\n",
    "            if j==i:\n",
    "                prime_box.append(x[j] + h)\n",
    "            else:\n",
    "                prime_box.append(x[j])\n",
    "            j+=1\n",
    "            \n",
    "        BX = np.dot(B,x)\n",
    "        𝐱𝑇𝐵𝐱 = np.dot((x.T),BX)\n",
    "\n",
    "        x_prime_tb = np.dot(np.array(prime_box).T,B)\n",
    "        xtbx = np.dot(x_prime_tb,prime_box)\n",
    "\n",
    "        \n",
    "        derivative = (xtbx - xTBx)/h\n",
    "        Gradients.append(derivative)\n",
    "        i+=1\n",
    "\n",
    "    return Gradients\n",
    "    "
   ]
  },
  {
   "cell_type": "code",
   "execution_count": 7,
   "metadata": {},
   "outputs": [
    {
     "data": {
      "text/plain": [
       "[5.561615867399894,\n",
       " 5.280708660588829,\n",
       " 4.806273682920192,\n",
       " 5.2410822340220875,\n",
       " 5.082370098676847,\n",
       " 6.225327914410883,\n",
       " 6.719902183274229,\n",
       " 7.18594097229186,\n",
       " 4.749970774504675,\n",
       " 4.704682409215621]"
      ]
     },
     "execution_count": 7,
     "metadata": {},
     "output_type": "execute_result"
    }
   ],
   "source": [
    "derive_function2(x, B, N)"
   ]
  },
  {
   "cell_type": "markdown",
   "metadata": {},
   "source": [
    "## Task2: Clustering\n",
    "-----------\n",
    "These programming exercises will focus on K-means clustering. \n",
    "\n",
    "If you're unsure of how k-means works, read this very helpful and freely available online breakdown from Stanford's CS221 course; https://stanford.edu/~cpiech/cs221/handouts/kmeans.html\n",
    "\n",
    "This assignment requires you to loosely interpret how k-means is a specific case of a more general algorithm named Expectation Maximisation. This is explained toward the end of the above article.\n",
    "\n",
    "First, lets loading the dataset."
   ]
  },
  {
   "cell_type": "code",
   "execution_count": 8,
   "metadata": {},
   "outputs": [
    {
     "data": {
      "image/png": "[encoded data removed]",
      "text/plain": [
       "<Figure size 432x288 with 1 Axes>"
      ]
     },
     "metadata": {
      "needs_background": "light"
     },
     "output_type": "display_data"
    }
   ],
   "source": [
    "X = np.load(\"./data.npy\")\n",
    "plt.scatter(X[:,0], X[:,1])\n",
    "plt.show()"
   ]
  },
  {
   "cell_type": "markdown",
   "metadata": {},
   "source": [
    "The dataset contains 1000 4-dimensional samples. However, we don't know how many centroids it contains. The number of centroids is more than 5 but less than 10. We need to figure it out in the clustering procedure.\n",
    "\n",
    "-----\n",
    "\n",
    "K-means is a special, simple case of the Expectation Maximisation (EM) algorithm.\n",
    "\n",
    "This simplified EM (k-means), is divided into two steps.\n",
    "\n",
    "The **E-Step**, where for every sample in your dataset you find which \"centroid\" that datapoint is closest to that sample, and record that information.\n",
    "\n",
    "The **M-Step**, where you move each \"centroid\" to the center of the samples which were found to be closest to it in the **E-Step**.\n",
    "\n",
    "Each *centroid* is simply an estimated mean of a cluster. If you have $1$ centroid, then this centroid will become the mean of all your data.\n",
    "\n",
    "If each of your samples, such as the 400 you generated in the previous question, are of dimension $n$, then each of your centroids will be of dimension $n$.\n",
    "\n",
    "Centroids are initially random values, and the k-means algorithm attempts to modify them so that each one represents the center of a cluster.\n",
    "\n",
    "---\n",
    "\n",
    "**TASK 2.1:** Write a function $initialise\\_parameters(m, n, X) = C$ which generates $m$ centroids, each of dimension $n$, and stores them in a matrix $C \\in \\mathbb{R}^{m \\times n}$.\n",
    "\n",
    "No two centroids should be the same, and **must not** be hard coded. Generate these parameters using a sensible initialisation method such as those described in the first link below. You will be judged based on whether the method you choose is sensible and likely to result in kmeans converging to good result.\n",
    "\n",
    "---\n",
    "\n",
    "**HINT:** \n",
    "- https://en.wikipedia.org/wiki/K-means_clustering#Initialization_methods\n",
    "- https://docs.scipy.org/doc/numpy-1.15.1/reference/generated/numpy.random.randint.html"
   ]
  },
  {
   "cell_type": "code",
   "execution_count": 9,
   "metadata": {},
   "outputs": [],
   "source": [
    "def Finding_New_Centroid(X, Current_Centroids):\n",
    "    Furthest_Point = -99\n",
    "    Furthest_Index = 0\n",
    "\n",
    "    i = 0\n",
    "    while i < len(X):\n",
    "        Current_Data_Point = X[i]\n",
    "        \n",
    "        if Current_Data_Point not in Current_Centroids:\n",
    "            Shortest_Distance_From_Chosen_Centroids = np.sqrt(sum((Current_Data_Point - Current_Centroids[0]) ** 2))\n",
    "            \n",
    "            for k in range(len(Current_Centroids)):\n",
    "                Each_Distance = np.sqrt(sum((Current_Data_Point - Current_Centroids[k]) ** 2))\n",
    "                if Each_Distance < Shortest_Distance_From_Chosen_Centroids:\n",
    "                    Shortest_Distance_From_Chosen_Centroids = Each_Distance \n",
    "            \n",
    "            if Shortest_Distance_From_Chosen_Centroids > Furthest_Point:\n",
    "                Furthest_Point = Shortest_Distance_From_Chosen_Centroids\n",
    "                Furthest_Index = i\n",
    "            \n",
    "        i += 1\n",
    "    \n",
    "    New_Centroid = X[Furthest_Index]\n",
    "    return New_Centroid"
   ]
  },
  {
   "cell_type": "code",
   "execution_count": 10,
   "metadata": {},
   "outputs": [
    {
     "name": "stdout",
     "output_type": "stream",
     "text": [
      "[[-0.08215101  0.11568247  1.0679666  -0.50048716]\n",
      " [ 0.25613997  0.22100056 -2.0508867  -2.44353477]]\n"
     ]
    }
   ],
   "source": [
    "def initialise_parameters(m, n, X):\n",
    "    C = np.zeros((m,n))\n",
    "    \n",
    "    X_copy = [row for row in X]\n",
    "    np.random.shuffle(X_copy)\n",
    "    C[0] = X_copy[0]\n",
    "    \n",
    "    for i in range(0, m-1):\n",
    "        New_Centroid = Finding_New_Centroid(X, C)\n",
    "        C[i+1] = New_Centroid\n",
    "    \n",
    "    return C\n",
    "\n",
    "C = initialise_parameters(2, 4, X)\n",
    "print(C)"
   ]
  },
  {
   "cell_type": "markdown",
   "metadata": {},
   "source": [
    "Now we implement k-means.\n",
    "\n",
    "---\n",
    "   **TASK 2.2:** Create a function $E\\_step(C, X) = L$, where $L$ is a matrix of the same dimension of the dataset $X$.\n",
    "   \n",
    "   This function is is the **E-Step** (or \"assignment step\") mentioned earlier.\n",
    "\n",
    "---\n",
    "\n",
    "**HINT:** \n",
    "- https://stanford.edu/~cpiech/cs221/handouts/kmeans.html\n",
    "- https://en.wikipedia.org/wiki/K-means_clustering#Standard_algorithm\n",
    "- Each row of $L$ is a centroid taken from $C$."
   ]
  },
  {
   "cell_type": "code",
   "execution_count": 11,
   "metadata": {},
   "outputs": [
    {
     "data": {
      "image/png": "[encoded data removed]",
      "text/plain": [
       "<Figure size 432x288 with 1 Axes>"
      ]
     },
     "metadata": {
      "needs_background": "light"
     },
     "output_type": "display_data"
    }
   ],
   "source": [
    "def E_step(C, X):\n",
    "    L = np.zeros(X.shape)\n",
    "    \n",
    "    for i in range(len(X)):\n",
    "        Current_Data_Point = X[i]\n",
    "        Minimum_Distance = np.sqrt(sum((Current_Data_Point - C[0]) ** 2))\n",
    "        \n",
    "        #Minimum_Distance = np.linalg.norm(Current_Data_Point - C[0])**2\n",
    "        Closest_Centroid = C[0]\n",
    "        \n",
    "        for k in range(len(C)):\n",
    "            Each_Distance = np.sqrt(sum((Current_Data_Point - C[k]) ** 2))\n",
    "            #Each_Distance = np.linalg.norm(Current_Data_Point - C[k])**2\n",
    "            \n",
    "            if Each_Distance < Minimum_Distance:\n",
    "                Minimum_Distance = Each_Distance\n",
    "                Closest_Centroid = C[k]\n",
    "\n",
    "        L[i] = Closest_Centroid\n",
    "  \n",
    "    return L\n",
    "\n",
    "L = E_step(C, X)\n",
    "plt.scatter(L[:, 0], L[:, 1])\n",
    "plt.show()"
   ]
  },
  {
   "cell_type": "markdown",
   "metadata": {},
   "source": [
    "---\n",
    "\n",
    "**TASK 2.3:** Create a function $M\\_step(C, X, L) = C$ which returns $C$ modified so that each centroid in $C$ is placed in the middle of the samples assigned to it. This is the **M-Step**.\n",
    "\n",
    "In other words, make each centroid in $C$ the average of all the samples which were found to be closest to it during the **E-step**. This is also called the \"update step\" for K-means.\n",
    "\n",
    "---\n",
    "\n",
    "**HINT:** https://docs.scipy.org/doc/numpy/reference/generated/numpy.array_equal.html"
   ]
  },
  {
   "cell_type": "code",
   "execution_count": 12,
   "metadata": {},
   "outputs": [],
   "source": [
    "def find_index(array_to_locate, original_list):\n",
    "    for i in range(len(original_list)):\n",
    "        Found = np.array_equal(array_to_locate, original_list[i])\n",
    "        if Found:\n",
    "            return i\n",
    "    return None"
   ]
  },
  {
   "cell_type": "code",
   "execution_count": 13,
   "metadata": {},
   "outputs": [
    {
     "data": {
      "text/plain": [
       "array([[-0.0175371 ,  0.01617017,  0.27377394,  0.26137019],\n",
       "       [ 0.03002494, -0.02453016, -1.69922178, -1.60831411]])"
      ]
     },
     "execution_count": 13,
     "metadata": {},
     "output_type": "execute_result"
    }
   ],
   "source": [
    "def M_step(C, X, L):\n",
    "    Clusters = {}\n",
    "\n",
    "    for i in range(len(X)):\n",
    "        Current_Data_Point = X[i]\n",
    "        Corresponding_Closest_Centroid = L[i]\n",
    "        Index_in_Centroid_List = find_index(Corresponding_Closest_Centroid, C)\n",
    "        \n",
    "        if Index_in_Centroid_List not in Clusters:\n",
    "            Clusters[Index_in_Centroid_List] = [Current_Data_Point]\n",
    "        else:\n",
    "            Clusters[Index_in_Centroid_List].append(Current_Data_Point)\n",
    "\n",
    "    Updated_Centroids = []\n",
    "    for k in Clusters:\n",
    "        Current_Cluster = Clusters[k]\n",
    "        New_Centroid = sum(Current_Cluster) / len(Current_Cluster)\n",
    "        Updated_Centroids.append(New_Centroid)\n",
    "        \n",
    "    return np.array(Updated_Centroids)\n",
    "\n",
    "M_step(C, X, L)"
   ]
  },
  {
   "cell_type": "markdown",
   "metadata": {},
   "source": [
    "---\n",
    "**TASK 2.4:** Implement $kmeans(X, m, i) = C, L$ which takes a dataset $X$ (of any dimension) and a scalar value $m$, and uses the previous 3 functions you wrote to:\n",
    "- generate $m$ centroids.\n",
    "- iterate between the E and M steps $i$ times (ie, it iterates $i$ times) to classify the $m$ clusters.\n",
    "\n",
    "...and then returns:\n",
    "- $C$, the centers of the $m$ clusters after $i$ iterations.\n",
    "- $L$, the labels (centroid values) assigned to each sample in the dataset after $i$ iterations.\n",
    "---"
   ]
  },
  {
   "cell_type": "code",
   "execution_count": 14,
   "metadata": {},
   "outputs": [],
   "source": [
    "def kmeans(X, m, i):\n",
    "    L = np.zeros(X.shape)\n",
    "    C = np.zeros((m, X.shape[1]))\n",
    "    \n",
    "    Number_of_Dimensions = X.shape[1] \n",
    "    C = initialise_parameters(m, Number_of_Dimensions, X)\n",
    "\n",
    "    for Number_of_Iteration in range(i):\n",
    "        L = E_step(C, X)\n",
    "        C = M_step(C, X, L)\n",
    "    \n",
    "    return C, L"
   ]
  },
  {
   "cell_type": "markdown",
   "metadata": {},
   "source": [
    "---\n",
    "**Task 2.5:** The following code is to display the result. However, due to the limitation of our visualization tools, it can only presents the data in the two dimensional space. While the dimension of the dataset is 4, we really want to visualize the data in the two dimensional figure. Besides, the number of centroids is not determined yet.\n",
    "\n",
    "This task is ask you to modify the following code so as to give the best visualization effect. \n",
    "\n",
    "---\n",
    "**HINT:** You only need to change \"number of centroid\", \"dimension1\", \"dimension2\" to a number, which are quoted by \"#\" in the following code. "
   ]
  },
  {
   "cell_type": "code",
   "execution_count": 15,
   "metadata": {},
   "outputs": [
    {
     "name": "stdout",
     "output_type": "stream",
     "text": [
      "Initial Parameters:\n",
      "[[-0.08215101  0.11568247  1.0679666  -0.50048716]\n",
      " [ 0.25613997  0.22100056 -2.0508867  -2.44353477]]\n",
      "\n",
      "Final Parameters:\n",
      "[[-3.12595827e-02  7.66544119e-03  7.32444784e-01  7.23499116e-01]\n",
      " [-2.05541611e-02 -2.94840798e-03 -7.34726213e-01  7.52580271e-01]\n",
      " [-1.61647729e-02  2.54639072e-02  1.00871817e+00 -7.26380789e-01]\n",
      " [-1.15362482e-03  3.56500354e-02 -5.02332315e-01 -7.41382419e-01]\n",
      " [ 1.80182894e-02 -2.84548382e-02 -1.73314207e+00 -1.74422749e+00]\n",
      " [-2.30938038e-02  1.71549863e-02  1.76052530e+00 -1.73716493e+00]\n",
      " [-1.08975530e-02  1.26213183e-02 -2.01514271e+00  1.74712290e+00]\n",
      " [-2.68311120e-03  1.72757846e-02  1.49565927e+00  1.75278340e+00]]\n"
     ]
    },
    {
     "data": {
      "image/png": "[encoded data removed]",
      "text/plain": [
       "<Figure size 432x288 with 1 Axes>"
      ]
     },
     "metadata": {
      "needs_background": "light"
     },
     "output_type": "display_data"
    }
   ],
   "source": [
    "m = 8 #number of centroid\n",
    "i = 100\n",
    "#CODE TO DISPLAY YOUR RESULTS.\n",
    "C_final, L_final = kmeans(X, m, i)\n",
    "print('Initial Parameters:')\n",
    "print(C)\n",
    "print('\\nFinal Parameters:')\n",
    "print(C_final)\n",
    "\n",
    "def allocator(X, L, c):\n",
    "    cluster = []\n",
    "    for i in range(L.shape[0]):\n",
    "        if np.array_equal(L[i, :], c):\n",
    "            cluster.append(X[i, :])\n",
    "    return np.asarray(cluster)\n",
    "\n",
    "colours = ['r', 'g', 'b', 'y', 'c', 'm', 'k', 'lime', 'wheat', 'fuchsia', 'pink']\n",
    "for i in range(m):\n",
    "    cluster = allocator(X, L_final, C_final[i, :])\n",
    "    plt.scatter(cluster[:,2], #dimension1\n",
    "                cluster[:,3], #dimension2\n",
    "                c=colours[i])\n",
    "plt.show()"
   ]
  },
  {
   "cell_type": "markdown",
   "metadata": {},
   "source": [
    "---\n",
    "**TASK 2.6:** Use your own words to explain how you found the number of centroids in Task 2.5 and how you might do this in the real world.\n",
    "\n",
    "---"
   ]
  },
  {
   "cell_type": "code",
   "execution_count": 16,
   "metadata": {},
   "outputs": [],
   "source": [
    "def Training_Loss(X, Final_Assignment, Final_Centroids):\n",
    "    Loss = []\n",
    "    i = 0\n",
    "    while i < len(X):\n",
    "        Current_Data_Point = X[i]\n",
    "        Corresponding_Closest_Centroid = Final_Assignment[i]\n",
    "        Distance = np.sqrt(sum((Current_Data_Point - Corresponding_Closest_Centroid) ** 2))\n",
    "        Loss.append(Distance)\n",
    "        i += 1\n",
    "    return sum(Loss)"
   ]
  },
  {
   "cell_type": "code",
   "execution_count": 19,
   "metadata": {},
   "outputs": [],
   "source": [
    "Number_of_Clusters_List = np.arange(6, 10, 1)\n",
    "\n",
    "Loss_List = []\n",
    "\n",
    "for Number_of_Clusters in Number_of_Clusters_List:\n",
    "    Number_of_Iteration = 100\n",
    "    Final_Centroids, Final_Assignment = kmeans(X, Number_of_Clusters, Number_of_Iteration)\n",
    "   \n",
    "    Each_Training_Loss = Training_Loss(X, Final_Assignment, Final_Centroids)\n",
    "    Loss_List.append(Each_Training_Loss)\n",
    "    "
   ]
  },
  {
   "cell_type": "code",
   "execution_count": 20,
   "metadata": {},
   "outputs": [
    {
     "data": {
      "image/png": "[encoded data removed]",
      "text/plain": [
       "<Figure size 432x288 with 1 Axes>"
      ]
     },
     "metadata": {
      "needs_background": "light"
     },
     "output_type": "display_data"
    }
   ],
   "source": [
    "plt.plot(Number_of_Clusters_List, Loss_List)\n",
    "plt.xlabel('Number of Clusters')\n",
    "plt.ylabel('Training Loss')\n",
    "plt.title('Optimal Number of Clusters: 8')\n",
    "plt.show()"
   ]
  },
  {
   "cell_type": "markdown",
   "metadata": {},
   "source": [
    "## Explainations"
   ]
  },
  {
   "cell_type": "markdown",
   "metadata": {},
   "source": [
    "- I have calculated the training loss for each number of clusters ranging from 6 to 9. Upon the above visualisations I have decided to select the value of the number of cluster at the elbow: utilizing the elbow method. This agrees with the visualisation, in task 2.5, henceforth, we conclude that, 8 cluster is the optimal cluster for the given data set. \n",
    "- In Real World, stakes are higher, therefore clustering is a matter of precision, and granularity of a quality decision making. Adding more data points would probably increase or decrease the number of clusters, because we can see that the clusters have sporadic data points, those points could be belonging to a different cluster; the question arises: is the cluster a true representation of the case in hand, meaning does it support the initial presumption about the real world? If it is a true representation of the real world, then it means we must investigate the sporadic points, as they have clear differences (as distance) from the centroid.\n",
    "\n",
    "- Nonetheless, the path to the optimal clustering is a matter of realising new insight, update current iteration, and repeat that process for reaching the optimal K(clusters). Given that real world is complex and dynamical(always changes), and so is tools that describe the real world also changing; and techniques like Elbow Method, Silhouette clustering and many other tools combined may help draw a near-precise picture(clusters) of real world. "
   ]
  },
  {
   "cell_type": "code",
   "execution_count": null,
   "metadata": {},
   "outputs": [],
   "source": []
  }
 ],
 "metadata": {
  "kernelspec": {
   "display_name": "Python 3",
   "language": "python",
   "name": "python3"
  },
  "language_info": {
   "codemirror_mode": {
    "name": "ipython",
    "version": 3
   },
   "file_extension": ".py",
   "mimetype": "text/x-python",
   "name": "python",
   "nbconvert_exporter": "python",
   "pygments_lexer": "ipython3",
   "version": "3.7.6"
  }
 },
 "nbformat": 4,
 "nbformat_minor": 2
}
